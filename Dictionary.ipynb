{
 "cells": [
  {
   "cell_type": "markdown",
   "metadata": {},
   "source": [
    "## Dictionary"
   ]
  },
  {
   "cell_type": "code",
   "execution_count": 1,
   "metadata": {},
   "outputs": [
    {
     "name": "stdout",
     "output_type": "stream",
     "text": [
      "age dictionary: {'Siobhan': 21, 'John': 52}\n",
      "There are 2 key:value pairs in the dictionary\n",
      "age dictionary copy: {'Siobhan': 21, 'John': 52}\n",
      "copies are equivalent?  True\n",
      "are age and ageCopy the same dictionary?  False\n",
      "52\n",
      "age dictionary: {}\n",
      "age dictionary copy: {'Siobhan': 21, 'John': 52}\n",
      "copies are equivalent?  False\n",
      "age dictionary copy: {}\n"
     ]
    }
   ],
   "source": [
    "# Example working with Dictionaries\n",
    "\n",
    "age = dict();  # create an empty dictionary\n",
    "\n",
    "# add entries to the dictionary\n",
    "age[\"Siobhan\"] = 21 \n",
    "age[\"John\"] = 52\n",
    "\n",
    "# repr( ) returns the string representation of the dictionary\n",
    "print(\"age dictionary: \" + repr(age)) \n",
    "\n",
    "# len( ) gives the length of the dictionary\n",
    "print(\"There are \"+ str(len(age)) + \" key:value pairs in the dictionary\") \n",
    "\n",
    "# copy( ) makes a copy of the dictionary\n",
    "ageCopy = age.copy() \n",
    "print(\"age dictionary copy: \" + repr(ageCopy)) # return the string representation of the dictionary\n",
    "\n",
    "# difference between == and is\n",
    "print(\"copies are equivalent? \", age == ageCopy) # == and != check if lists have same key:value pairs\n",
    "print(\"are age and ageCopy the same dictionary? \", age is ageCopy) # note the difference between == and is!\n",
    "\n",
    "# removing elements from the list\n",
    "# pop( ) removes and returns the value\n",
    "ageJohn = age.pop(\"John\")  \n",
    "print(ageJohn)\n",
    "\n",
    "# del ( ) removes but doesn't return the return value\n",
    "del age[\"Siobhan\"]  \n",
    "\n",
    "# John and Siobhan have both been removed so list should now be empty\n",
    "print(\"age dictionary: \" + repr(age)) \n",
    "\n",
    "# but the copy of the dictionary hasn't been changed\n",
    "print(\"age dictionary copy: \" + repr(ageCopy)) \n",
    "print(\"copies are equivalent? \", age == ageCopy)\n",
    "\n",
    "# clear( ) removes everything in a dictionary\n",
    "ageCopy.clear()  \n",
    "print(\"age dictionary copy: \" + repr(ageCopy)) # return the string representation of the dictionary"
   ]
  },
  {
   "cell_type": "code",
   "execution_count": null,
   "metadata": {},
   "outputs": [],
   "source": []
  }
 ],
 "metadata": {
  "kernelspec": {
   "display_name": "PythonPracvenv",
   "language": "python",
   "name": "python3"
  },
  "language_info": {
   "codemirror_mode": {
    "name": "ipython",
    "version": 3
   },
   "file_extension": ".py",
   "mimetype": "text/x-python",
   "name": "python",
   "nbconvert_exporter": "python",
   "pygments_lexer": "ipython3",
   "version": "3.13.1"
  }
 },
 "nbformat": 4,
 "nbformat_minor": 2
}
